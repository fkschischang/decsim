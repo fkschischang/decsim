{
 "cells": [
  {
   "cell_type": "markdown",
   "id": "fcf8c253-76e4-4d6a-8e37-fdd582d54e31",
   "metadata": {},
   "source": [
    "MIT License\n",
    "\n",
    "Copyright (c) 2025 Mohannad Shehadeh\n",
    "\n",
    "Permission is hereby granted, free of charge, to any person obtaining a copy\n",
    "of this software and associated documentation files (the \"Software\"), to deal\n",
    "in the Software without restriction, including without limitation the rights\n",
    "to use, copy, modify, merge, publish, distribute, sublicense, and/or sell\n",
    "copies of the Software, and to permit persons to whom the Software is\n",
    "furnished to do so, subject to the following conditions:\n",
    "\n",
    "The above copyright notice and this permission notice shall be included in all\n",
    "copies or substantial portions of the Software.\n",
    "\n",
    "THE SOFTWARE IS PROVIDED \"AS IS\", WITHOUT WARRANTY OF ANY KIND, EXPRESS OR\n",
    "IMPLIED, INCLUDING BUT NOT LIMITED TO THE WARRANTIES OF MERCHANTABILITY,\n",
    "FITNESS FOR A PARTICULAR PURPOSE AND NONINFRINGEMENT. IN NO EVENT SHALL THE\n",
    "AUTHORS OR COPYRIGHT HOLDERS BE LIABLE FOR ANY CLAIM, DAMAGES OR OTHER\n",
    "LIABILITY, WHETHER IN AN ACTION OF CONTRACT, TORT OR OTHERWISE, ARISING FROM,\n",
    "OUT OF OR IN CONNECTION WITH THE SOFTWARE OR THE USE OR OTHER DEALINGS IN THE\n",
    "SOFTWARE."
   ]
  },
  {
   "cell_type": "code",
   "execution_count": 1,
   "id": "5dfd283e-fb67-40b9-a39f-19a62a5dbabe",
   "metadata": {
    "tags": []
   },
   "outputs": [],
   "source": [
    "include(\"L-one-two-DTSs.jl\");\n",
    "include(\"grab-DTS.jl\");\n",
    "include(\"grab-DTS-slen.jl\");\n",
    "using DelimitedFiles"
   ]
  },
  {
   "cell_type": "markdown",
   "id": "fce2a51f-9289-4ca5-9c95-a2b21f156103",
   "metadata": {},
   "source": [
    "# Generates header file with minimum scope DTSs:"
   ]
  },
  {
   "cell_type": "markdown",
   "id": "4dee486c-995a-49fc-9c46-a995274f3bea",
   "metadata": {},
   "source": [
    " Currently supported values of L and M are:\n",
    " * if M = 1: all L (specify limit below)\n",
    " * if M = 2: all L (specify limit below)\n",
    " * if M = 3: all L up to 15\n",
    " * if M = 4: all L up to 15\n",
    " * if M = 5,6,7,8,9: L = 1"
   ]
  },
  {
   "cell_type": "code",
   "execution_count": 2,
   "id": "a99b61e1-f345-464a-8739-25fb1530d2b3",
   "metadata": {},
   "outputs": [
    {
     "data": {
      "text/plain": [
       "31008"
      ]
     },
     "execution_count": 2,
     "metadata": {},
     "output_type": "execute_result"
    }
   ],
   "source": [
    "# CREATE C language static array DTS definitions for use with descim-hosc\n",
    "MAX_L_IN_EXPLICIT_CASE = 25;\n",
    "L_M_SET = [(L,1) for L in 1:MAX_L_IN_EXPLICIT_CASE];\n",
    "L_M_SET = [L_M_SET; [(L,2) for L in 1:MAX_L_IN_EXPLICIT_CASE]];\n",
    "L_M_SET = [L_M_SET; [(L,3) for L in 1:15]];\n",
    "L_M_SET = [L_M_SET; [(L,4) for L in 1:15]];\n",
    "L_M_SET = [L_M_SET; [(1,M) for M in [5,6,7,8,9]]];\n",
    "C_DTS_config = \"\";\n",
    "for lmpair in L_M_SET\n",
    "    local L = lmpair[1];\n",
    "    local M = lmpair[2];\n",
    "    local DTS = grabDTS(L,M);\n",
    "    local SCOPE_MINUS_DTS_c = reverse(maximum(DTS) .- DTS,dims=1);\n",
    "    C_DTS_config *= \n",
    "    (L==1 && M==1 ? \"#\" : \"#el\")* \n",
    "    \"if (L == $L && M == $M)\n",
    "        //static const int DTS[L][M+1] = \" *\n",
    "        \"{\"*prod([\"{\"*prod(string.(DTS[j,:]) .* [i == M+1 ? \"\" : \",\" for i in 1:M+1])*\"}\" for j in 1:L] .* \n",
    "    [i == L ? \"\" : \",\" for i in 1:L])*\"};\n",
    "        static const int SCOPE_MINUS_DTS_c[L][M+1] = \" *\n",
    "        \"{\"*prod([\"{\"*prod(string.(SCOPE_MINUS_DTS_c[j,:]) .* [i == M+1 ? \"\" : \",\" for i in 1:M+1])*\"}\" for j in 1:L] .* \n",
    "    [i == L ? \"\" : \",\" for i in 1:L])*\"};\n",
    "        #define SCOPE $(maximum(DTS))\n",
    "\"\n",
    "end\n",
    "C_DTS_config *= \"#endif\"\n",
    "write(\"dts-defs.h\",C_DTS_config)"
   ]
  },
  {
   "cell_type": "markdown",
   "id": "748d8626-6ab5-4d59-b533-584489ac40ff",
   "metadata": {},
   "source": [
    "# Generates header file with minimum scope *and* sum-of-lengths DTSs:"
   ]
  },
  {
   "cell_type": "markdown",
   "id": "7aef2518-79e9-4454-8f51-e8d2a6aa0813",
   "metadata": {},
   "source": [
    " Currently supported values of L and M are:\n",
    " * if M = 1: all L (specify limit below)\n",
    " * if M = 2: all L (specify limit below)\n",
    " * if M = 3: all L up to 15\n",
    " * if M = 4: all L up to 10 excluding 9\n",
    " * if M = 5,6,7,8,9: L = 1"
   ]
  },
  {
   "cell_type": "code",
   "execution_count": 3,
   "id": "1b2b14b8-659d-40cc-b2f0-64207c765a94",
   "metadata": {},
   "outputs": [],
   "source": [
    "# # CREATE C language static array DTS definitions for use with descim-hosc\n",
    "# MAX_L_IN_EXPLICIT_CASE = 1000;\n",
    "# L_M_SET = [(L,1) for L in 1:MAX_L_IN_EXPLICIT_CASE];\n",
    "# L_M_SET = [L_M_SET; [(L,2) for L in 1:MAX_L_IN_EXPLICIT_CASE]];\n",
    "# L_M_SET = [L_M_SET; [(L,3) for L in 1:15]];\n",
    "# L_M_SET = [L_M_SET; [(L,4) for L in [1,2,3,4,5,6,7,8,10]]];\n",
    "# L_M_SET = [L_M_SET; [(1,M) for M in [5,6,7,8,9]]];\n",
    "# C_DTS_config = \"\";\n",
    "# for lmpair in L_M_SET\n",
    "#     local L = lmpair[1];\n",
    "#     local M = lmpair[2];\n",
    "#     local DTS = grabDTSslen(L,M);\n",
    "#     local SCOPE_MINUS_DTS_c = reverse(maximum(DTS) .- DTS,dims=1);\n",
    "#     C_DTS_config *= \n",
    "#     (L==1 && M==1 ? \"#\" : \"#el\")* \n",
    "#     \"if (L == $L && M == $M)\n",
    "#         //static const int DTS[L][M+1] = \" *\n",
    "#         \"{\"*prod([\"{\"*prod(string.(DTS[j,:]) .* [i == M+1 ? \"\" : \",\" for i in 1:M+1])*\"}\" for j in 1:L] .* \n",
    "#     [i == L ? \"\" : \",\" for i in 1:L])*\"};\n",
    "#         static const int SCOPE_MINUS_DTS_c[L][M+1] = \" *\n",
    "#         \"{\"*prod([\"{\"*prod(string.(SCOPE_MINUS_DTS_c[j,:]) .* [i == M+1 ? \"\" : \",\" for i in 1:M+1])*\"}\" for j in 1:L] .* \n",
    "#     [i == L ? \"\" : \",\" for i in 1:L])*\"};\n",
    "#         #define SCOPE $(maximum(DTS))\n",
    "# \"\n",
    "# end\n",
    "# C_DTS_config *= \"#endif\"\n",
    "# write(\"dts-defs.h\",C_DTS_config)"
   ]
  },
  {
   "cell_type": "code",
   "execution_count": null,
   "id": "fa37e428-6d3e-4b61-8a82-52ca653c62ff",
   "metadata": {},
   "outputs": [],
   "source": []
  }
 ],
 "metadata": {
  "kernelspec": {
   "display_name": "Julia 1.11.0",
   "language": "julia",
   "name": "julia-1.11"
  },
  "language_info": {
   "file_extension": ".jl",
   "mimetype": "application/julia",
   "name": "julia",
   "version": "1.11.0"
  }
 },
 "nbformat": 4,
 "nbformat_minor": 5
}
